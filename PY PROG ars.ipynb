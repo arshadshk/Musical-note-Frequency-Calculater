{
 "cells": [
  {
   "cell_type": "code",
   "execution_count": 14,
   "metadata": {},
   "outputs": [
    {
     "name": "stdout",
     "output_type": "stream",
     "text": [
      "Enter the frequency of C138.5\n"
     ]
    }
   ],
   "source": [
    "C= input(\"Enter the frequency of C\") "
   ]
  },
  {
   "cell_type": "code",
   "execution_count": 15,
   "metadata": {},
   "outputs": [],
   "source": [
    "C=float(C)"
   ]
  },
  {
   "cell_type": "code",
   "execution_count": 16,
   "metadata": {},
   "outputs": [],
   "source": [
    "X=C/4\n",
    "E=5*X\n",
    "G=6*X \n",
    "Y=G/4\n",
    "B=5*Y                    \n",
    "D2=6*Y \n",
    "C2=2*C\n",
    "Z=C2/6\n",
    "A=5*Z \n",
    "F=4*Z \n",
    "D=D2/2  "
   ]
  },
  {
   "cell_type": "code",
   "execution_count": 17,
   "metadata": {},
   "outputs": [
    {
     "name": "stdout",
     "output_type": "stream",
     "text": [
      "C(SA) 138.5 \n",
      "D(RE) 155.8125 \n",
      "E(GA) 173.125 \n",
      "F(MA) 184.66666666666666 \n",
      "G(PA) 207.75 \n",
      "A(DHA) 230.83333333333331 \n",
      "B(NI) 259.6875\n"
     ]
    }
   ],
   "source": [
    "print('C(SA)',C,'\\nD(RE)',D,'\\nE(GA)',E,'\\nF(MA)',F,'\\nG(PA)',G,'\\nA(DHA)',A,'\\nB(NI)',B)"
   ]
  },
  {
   "cell_type": "code",
   "execution_count": 18,
   "metadata": {},
   "outputs": [],
   "source": [
    "# Users welcomed to shorten the code.\n",
    "\n",
    "\n",
    "######   RELATIONS USED HERE ARE  ############\n",
    "#                                            #\n",
    "#     SA : GA : PA = 4:5:6 = MA : DHA : SA'  #\n",
    "#                                            #\n",
    "##############################################\n",
    "\n",
    "#Followind derived from above relations.\n",
    "#X=C/4\n",
    "#Y=G/4\n",
    "#Z=C2/6\n",
    "\n",
    "#C=100       #SA             \n",
    "#D=D2/2          #RE\n",
    "#E=5*X       #GA\n",
    "#F=4*Z           #MA        NOTE- THESE NOTATIONS GIVES WESTERN TO INDIAN MUSIC NOTATIONS.\n",
    "#G=6*X       #PA\n",
    "#A=5*Z           #DHA\n",
    "#B=5*Y       #NI                     \n",
    "\n",
    "#C2=2*C          #SA'  \n",
    "#D2=6*Y      #RE\n",
    "#                                                                                     ARSHAD SHAIKH"
   ]
  },
  {
   "cell_type": "code",
   "execution_count": null,
   "metadata": {},
   "outputs": [],
   "source": []
  }
 ],
 "metadata": {
  "kernelspec": {
   "display_name": "Python 3",
   "language": "python",
   "name": "python3"
  },
  "language_info": {
   "codemirror_mode": {
    "name": "ipython",
    "version": 3
   },
   "file_extension": ".py",
   "mimetype": "text/x-python",
   "name": "python",
   "nbconvert_exporter": "python",
   "pygments_lexer": "ipython3",
   "version": "3.6.5"
  }
 },
 "nbformat": 4,
 "nbformat_minor": 2
}
